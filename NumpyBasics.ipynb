{
  "nbformat": 4,
  "nbformat_minor": 0,
  "metadata": {
    "kernelspec": {
      "display_name": "Python 3",
      "language": "python",
      "name": "python3"
    },
    "language_info": {
      "codemirror_mode": {
        "name": "ipython",
        "version": 3
      },
      "file_extension": ".py",
      "mimetype": "text/x-python",
      "name": "python",
      "nbconvert_exporter": "python",
      "pygments_lexer": "ipython3",
      "version": "3.8.8"
    },
    "colab": {
      "provenance": []
    }
  },
  "cells": [
    {
      "cell_type": "markdown",
      "metadata": {
        "id": "NmDcVSYwDLy1"
      },
      "source": [
        "## NumPy Exercises\n",
        "##### Hope you've brushed up your NumPy knowledge. Now let's test it!"
      ]
    },
    {
      "cell_type": "markdown",
      "metadata": {
        "id": "Cdoxnj_zDLy9"
      },
      "source": [
        "### Import NumPy"
      ]
    },
    {
      "cell_type": "code",
      "metadata": {
        "id": "IOG0L6kLDLy-"
      },
      "source": [
        "import numpy as np"
      ],
      "execution_count": null,
      "outputs": []
    },
    {
      "cell_type": "markdown",
      "metadata": {
        "id": "3l6e8RTEDLy_"
      },
      "source": [
        "### Create an Array of 5 zeroes"
      ]
    },
    {
      "cell_type": "code",
      "source": [
        "a=np.zeros(5, dtype= int)"
      ],
      "metadata": {
        "id": "EtrxiqcNyigj"
      },
      "execution_count": null,
      "outputs": []
    },
    {
      "cell_type": "markdown",
      "metadata": {
        "id": "2IvcKVhmDLzC"
      },
      "source": [
        "### Create an Array of 10 ones"
      ]
    },
    {
      "cell_type": "code",
      "source": [
        "b=np.ones(10, dtype= int)"
      ],
      "metadata": {
        "id": "zzH89ji_yj-B"
      },
      "execution_count": null,
      "outputs": []
    },
    {
      "cell_type": "markdown",
      "metadata": {
        "id": "QPN4h4BCDLzD"
      },
      "source": [
        "### Create an Array of 20 sevens"
      ]
    },
    {
      "cell_type": "code",
      "source": [
        "c=np.ones(20, dtype= int)*7"
      ],
      "metadata": {
        "id": "ba_WM0rY0WEk"
      },
      "execution_count": null,
      "outputs": []
    },
    {
      "cell_type": "markdown",
      "metadata": {
        "id": "ErvN1HK-DLzF"
      },
      "source": [
        " ### Create an Array of integers from 2020 to 2050 (both inclusive)"
      ]
    },
    {
      "cell_type": "markdown",
      "source": [
        "\n",
        "\n",
        "```\n",
        "b=np.arange(2020,2050+1)\n",
        "```\n",
        "\n"
      ],
      "metadata": {
        "id": "ntly6q-50W14"
      }
    },
    {
      "cell_type": "markdown",
      "metadata": {
        "id": "b9yWl79lDLzG"
      },
      "source": [
        "### Create an Array of all ODD integers between 1 and 11 (both inclusive)"
      ]
    },
    {
      "cell_type": "code",
      "source": [
        "b=np.arange(1,11+1,2)"
      ],
      "metadata": {
        "id": "Dnfxm0mR0Xgy"
      },
      "execution_count": null,
      "outputs": []
    },
    {
      "cell_type": "markdown",
      "metadata": {
        "id": "-eBpsx5VDLzG"
      },
      "source": [
        "# Create a 3x3 Matrix with nos. ranging from 1 to 10"
      ]
    },
    {
      "cell_type": "code",
      "source": [
        "x=np.arange(1,10).reshape(3,3)"
      ],
      "metadata": {
        "id": "ykijzmys0YFl"
      },
      "execution_count": null,
      "outputs": []
    },
    {
      "cell_type": "markdown",
      "metadata": {
        "id": "Ux5tM-JEDLzH"
      },
      "source": [
        "### Create a 2x2 Identity Matrix"
      ]
    },
    {
      "cell_type": "code",
      "source": [
        "x=np.identity(2, dtype=int)"
      ],
      "metadata": {
        "id": "mACZfWQj0Yvc"
      },
      "execution_count": null,
      "outputs": []
    },
    {
      "cell_type": "markdown",
      "metadata": {
        "id": "ZDsKQ1oWDLzK"
      },
      "source": [
        "### Generate a random number between 0 and 1 using NumPy functions"
      ]
    },
    {
      "cell_type": "code",
      "source": [
        "x=np.random.rand()\n"
      ],
      "metadata": {
        "id": "mp3k-IFx0ZbR"
      },
      "execution_count": null,
      "outputs": []
    },
    {
      "cell_type": "markdown",
      "metadata": {
        "id": "9_hBoefZDLzL"
      },
      "source": [
        "### Generate an array of 10 Random Numbers sampled from a standard normal distribution\n",
        "\n",
        "##### You can revise statistics by clicking here:  <a href=\"https://www.mathsisfun.com/data/standard-normal-distribution.html\"> <button type=\"button\">Statistics</button></a>"
      ]
    },
    {
      "cell_type": "code",
      "source": [
        "x=np.random.normal(0,1,10)"
      ],
      "metadata": {
        "id": "ueTwA0SV0aGz"
      },
      "execution_count": null,
      "outputs": []
    },
    {
      "cell_type": "markdown",
      "metadata": {
        "id": "LNgGb5KBDLzL"
      },
      "source": [
        "### Generate the following Matrix:"
      ]
    },
    {
      "cell_type": "code",
      "metadata": {
        "id": "U-aOJOhVDLzL"
      },
      "source": [
        "x=np.arange(0.01,1.01,0.01).reshape(10,10)\n"
      ],
      "execution_count": null,
      "outputs": []
    },
    {
      "cell_type": "markdown",
      "metadata": {
        "id": "zk0eym66DLzM"
      },
      "source": [
        "## NumPy Indexing & Selection"
      ]
    },
    {
      "cell_type": "markdown",
      "metadata": {
        "id": "SywqnG72DLzM"
      },
      "source": [
        "### You have to produce the foll. matrix and replicate the outputs that follow:"
      ]
    },
    {
      "cell_type": "markdown",
      "metadata": {
        "id": "_uyvGKvJDLzN"
      },
      "source": [
        "- WRITE THE CODE THAT REPRODUCES THE OUTPUT OF THE CELLS THAT FOLLOW\n",
        "- BE CAREFUL NOT TO RUN THE CELL THAT HAS THE OUTPUT\n",
        "- OTHERWISE YOU WON'T BE ABLE TO SEE THE OUTPUT ANY MORE\n",
        "- CODE IN THE CELLS PROVIDED IMMEDIATELY BELOW THE OUTPUT\n",
        "- MAKE SURE THAT YOU DON'T REMOVE YOUR CODE ONCE THE DESIRED OUTPUT IS PRODUCED"
      ]
    },
    {
      "cell_type": "markdown",
      "metadata": {
        "id": "2m31ZUPgDLzN"
      },
      "source": [
        "### 1.\n"
      ]
    },
    {
      "cell_type": "code",
      "metadata": {
        "id": "qwoYU21JDLzN",
        "outputId": "ab3e1a2d-98ff-4537-e830-3718b7bdfdb9"
      },
      "source": [
        "x=np.arange(1,26).reshape(5,5)\n",
        "print(\"array(\",x,\")\")\n"
      ],
      "execution_count": null,
      "outputs": [
        {
          "output_type": "execute_result",
          "data": {
            "text/plain": [
              "array([[ 1,  2,  3,  4,  5],\n",
              "       [ 6,  7,  8,  9, 10],\n",
              "       [11, 12, 13, 14, 15],\n",
              "       [16, 17, 18, 19, 20],\n",
              "       [21, 22, 23, 24, 25]])"
            ]
          },
          "metadata": {
            "tags": []
          },
          "execution_count": 5
        }
      ]
    },
    {
      "cell_type": "markdown",
      "metadata": {
        "id": "9r8qNiBwDLzO"
      },
      "source": [
        "### 2."
      ]
    },
    {
      "cell_type": "code",
      "metadata": {
        "id": "MDpVW5ToDLzO",
        "outputId": "d963f0c0-1a1b-4ad7-d1a2-ae9bb05ce33a"
      },
      "source": [
        "print(\"array(\"x[2:,1:],\")\")"
      ],
      "execution_count": null,
      "outputs": [
        {
          "output_type": "execute_result",
          "data": {
            "text/plain": [
              "array([[12, 13, 14, 15],\n",
              "       [17, 18, 19, 20],\n",
              "       [22, 23, 24, 25]])"
            ]
          },
          "metadata": {
            "tags": []
          },
          "execution_count": 8
        }
      ]
    },
    {
      "cell_type": "markdown",
      "metadata": {
        "id": "j_ZwXkfPDLzQ"
      },
      "source": [
        "### 3."
      ]
    },
    {
      "cell_type": "code",
      "metadata": {
        "id": "F8Pyg9KEDLzQ",
        "outputId": "035f84c8-b681-402d-b54d-f7f5af84f6b2"
      },
      "source": [
        "print(\"array(\"x[3,4],\")\")\n"
      ],
      "execution_count": null,
      "outputs": [
        {
          "output_type": "execute_result",
          "data": {
            "text/plain": [
              "20"
            ]
          },
          "metadata": {
            "tags": []
          },
          "execution_count": 9
        }
      ]
    },
    {
      "cell_type": "markdown",
      "metadata": {
        "id": "nPcf8mfqDLzS"
      },
      "source": [
        "### 4."
      ]
    },
    {
      "cell_type": "code",
      "metadata": {
        "id": "NqNXtGCWDLzS",
        "outputId": "48806f7b-112e-45f7-f665-747508e606fb"
      },
      "source": [
        "x[0:3,1].reshape((3,1))\n",
        "\n"
      ],
      "execution_count": null,
      "outputs": [
        {
          "output_type": "execute_result",
          "data": {
            "text/plain": [
              "array([[ 2],\n",
              "       [ 7],\n",
              "       [12]])"
            ]
          },
          "metadata": {
            "tags": []
          },
          "execution_count": 10
        }
      ]
    },
    {
      "cell_type": "markdown",
      "metadata": {
        "id": "WE5Y966fDLzT"
      },
      "source": [
        "### 5."
      ]
    },
    {
      "cell_type": "code",
      "metadata": {
        "id": "4tFyH0FxDLzT",
        "outputId": "b8a49b4c-0a07-48cb-b0ae-b3d111d52451"
      },
      "source": [
        "x[4,]\n"
      ],
      "execution_count": null,
      "outputs": [
        {
          "output_type": "execute_result",
          "data": {
            "text/plain": [
              "array([21, 22, 23, 24, 25])"
            ]
          },
          "metadata": {
            "tags": []
          },
          "execution_count": 12
        }
      ]
    },
    {
      "cell_type": "markdown",
      "metadata": {
        "id": "OOJBfaOIDLzU"
      },
      "source": [
        "### 6.  Find the average of all integer values in the matrix generated in 1."
      ]
    },
    {
      "cell_type": "code",
      "source": [
        "a=np.average(x)\n"
      ],
      "metadata": {
        "id": "e7kUIxXm0JFm"
      },
      "execution_count": null,
      "outputs": []
    },
    {
      "cell_type": "markdown",
      "metadata": {
        "id": "tEGpNJ-0DLzW"
      },
      "source": [
        "### 7. Find the sum of all values in each row of the matrix generated in 1.\n",
        "\n",
        "##### (Hint: Think in terms of axis!)\n",
        "\n",
        "- Output should be: array( [15, 40, 65, 90, 115] )"
      ]
    },
    {
      "cell_type": "code",
      "source": [
        "s=np.sum(x,1)\n"
      ],
      "metadata": {
        "id": "alU-VYYc0Jyk"
      },
      "execution_count": null,
      "outputs": []
    },
    {
      "cell_type": "markdown",
      "metadata": {
        "id": "PGbhdOr3DLzX"
      },
      "source": [
        "# Great Job!"
      ]
    },
    {
      "cell_type": "markdown",
      "metadata": {
        "id": "qL6KqhmCDLzY"
      },
      "source": [
        "### If you're still not confident about NumPy, revise it here: <a href=\"https://www.tutorialspoint.com/numpy/index.htm\"> <button type=\"button\">NumPy</button></a>"
      ]
    }
  ]
}